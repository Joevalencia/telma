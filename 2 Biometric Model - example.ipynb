{
 "cells": [
  {
   "cell_type": "markdown",
   "metadata": {},
   "source": [
    "## Welcome to Telma's Library \n"
   ]
  },
  {
   "attachments": {
    "telma%202.png": {
     "image/png": "[encoded data removed]"
    }
   },
   "cell_type": "markdown",
   "metadata": {},
   "source": [
    "![telma%202.png](attachment:telma%202.png)"
   ]
  },
  {
   "cell_type": "markdown",
   "metadata": {},
   "source": [
    "### BiometricModel is a class of Telma.\n",
    "\n",
    "This class make the basic actuarial table for one cohort or two cohorts either."
   ]
  },
  {
   "cell_type": "markdown",
   "metadata": {},
   "source": [
    "##### Using G20 dataset.\n",
    "\n",
    "Note: this database refers to the G20 countries and that was downloaded from **kaggle**.\n",
    "Click the following link to obtain it. [Dataset lifeTables](https://www.kaggle.com/cthierfelder/life-table-g20)"
   ]
  },
  {
   "cell_type": "code",
   "execution_count": 2,
   "metadata": {},
   "outputs": [
    {
     "data": {
      "text/html": [
       "<div>\n",
       "<style scoped>\n",
       "    .dataframe tbody tr th:only-of-type {\n",
       "        vertical-align: middle;\n",
       "    }\n",
       "\n",
       "    .dataframe tbody tr th {\n",
       "        vertical-align: top;\n",
       "    }\n",
       "\n",
       "    .dataframe thead th {\n",
       "        text-align: right;\n",
       "    }\n",
       "</style>\n",
       "<table border=\"1\" class=\"dataframe\">\n",
       "  <thead>\n",
       "    <tr style=\"text-align: right;\">\n",
       "      <th></th>\n",
       "      <th>Australia_Male</th>\n",
       "      <th>Austria_Male</th>\n",
       "      <th>Belgium_Male</th>\n",
       "      <th>Bulgaria_Male</th>\n",
       "      <th>Canada_Male</th>\n",
       "      <th>Czech Republic_Male</th>\n",
       "      <th>Denmark_Male</th>\n",
       "      <th>Estonia_Male</th>\n",
       "      <th>Finland_Male</th>\n",
       "      <th>France_Male</th>\n",
       "      <th>...</th>\n",
       "      <th>Netherlands_Female</th>\n",
       "      <th>Poland_Female</th>\n",
       "      <th>Portugal_Female</th>\n",
       "      <th>Russia_Female</th>\n",
       "      <th>Slovakia_Female</th>\n",
       "      <th>Slovenia_Female</th>\n",
       "      <th>Spain_Female</th>\n",
       "      <th>Sweden_Female</th>\n",
       "      <th>United Kingdom_Female</th>\n",
       "      <th>United States_Female</th>\n",
       "    </tr>\n",
       "    <tr>\n",
       "      <th>age</th>\n",
       "      <th></th>\n",
       "      <th></th>\n",
       "      <th></th>\n",
       "      <th></th>\n",
       "      <th></th>\n",
       "      <th></th>\n",
       "      <th></th>\n",
       "      <th></th>\n",
       "      <th></th>\n",
       "      <th></th>\n",
       "      <th></th>\n",
       "      <th></th>\n",
       "      <th></th>\n",
       "      <th></th>\n",
       "      <th></th>\n",
       "      <th></th>\n",
       "      <th></th>\n",
       "      <th></th>\n",
       "      <th></th>\n",
       "      <th></th>\n",
       "      <th></th>\n",
       "    </tr>\n",
       "  </thead>\n",
       "  <tbody>\n",
       "    <tr>\n",
       "      <th>0</th>\n",
       "      <td>100000</td>\n",
       "      <td>100000</td>\n",
       "      <td>100000</td>\n",
       "      <td>100000</td>\n",
       "      <td>100000</td>\n",
       "      <td>100000</td>\n",
       "      <td>100000</td>\n",
       "      <td>100000</td>\n",
       "      <td>100000</td>\n",
       "      <td>100000</td>\n",
       "      <td>...</td>\n",
       "      <td>100000</td>\n",
       "      <td>100000</td>\n",
       "      <td>100000</td>\n",
       "      <td>100000</td>\n",
       "      <td>100000</td>\n",
       "      <td>100000</td>\n",
       "      <td>100000</td>\n",
       "      <td>100000</td>\n",
       "      <td>100000</td>\n",
       "      <td>100000</td>\n",
       "    </tr>\n",
       "    <tr>\n",
       "      <th>1</th>\n",
       "      <td>99528</td>\n",
       "      <td>99600</td>\n",
       "      <td>99620</td>\n",
       "      <td>98938</td>\n",
       "      <td>99488</td>\n",
       "      <td>99698</td>\n",
       "      <td>99689</td>\n",
       "      <td>99582</td>\n",
       "      <td>99740</td>\n",
       "      <td>99586</td>\n",
       "      <td>...</td>\n",
       "      <td>99649</td>\n",
       "      <td>99493</td>\n",
       "      <td>99693</td>\n",
       "      <td>99279</td>\n",
       "      <td>99526</td>\n",
       "      <td>99747</td>\n",
       "      <td>99713</td>\n",
       "      <td>99759</td>\n",
       "      <td>99583</td>\n",
       "      <td>99415</td>\n",
       "    </tr>\n",
       "    <tr>\n",
       "      <th>2</th>\n",
       "      <td>99495</td>\n",
       "      <td>99572</td>\n",
       "      <td>99570</td>\n",
       "      <td>98887</td>\n",
       "      <td>99453</td>\n",
       "      <td>99674</td>\n",
       "      <td>99663</td>\n",
       "      <td>99521</td>\n",
       "      <td>99723</td>\n",
       "      <td>99554</td>\n",
       "      <td>...</td>\n",
       "      <td>99624</td>\n",
       "      <td>99461</td>\n",
       "      <td>99657</td>\n",
       "      <td>99205</td>\n",
       "      <td>99486</td>\n",
       "      <td>99727</td>\n",
       "      <td>99682</td>\n",
       "      <td>99735</td>\n",
       "      <td>99558</td>\n",
       "      <td>99376</td>\n",
       "    </tr>\n",
       "    <tr>\n",
       "      <th>3</th>\n",
       "      <td>99471</td>\n",
       "      <td>99545</td>\n",
       "      <td>99549</td>\n",
       "      <td>98854</td>\n",
       "      <td>99433</td>\n",
       "      <td>99646</td>\n",
       "      <td>99657</td>\n",
       "      <td>99521</td>\n",
       "      <td>99717</td>\n",
       "      <td>99531</td>\n",
       "      <td>...</td>\n",
       "      <td>99609</td>\n",
       "      <td>99443</td>\n",
       "      <td>99639</td>\n",
       "      <td>99160</td>\n",
       "      <td>99444</td>\n",
       "      <td>99717</td>\n",
       "      <td>99669</td>\n",
       "      <td>99718</td>\n",
       "      <td>99538</td>\n",
       "      <td>99351</td>\n",
       "    </tr>\n",
       "    <tr>\n",
       "      <th>4</th>\n",
       "      <td>99458</td>\n",
       "      <td>99528</td>\n",
       "      <td>99528</td>\n",
       "      <td>98795</td>\n",
       "      <td>99421</td>\n",
       "      <td>99637</td>\n",
       "      <td>99654</td>\n",
       "      <td>99521</td>\n",
       "      <td>99707</td>\n",
       "      <td>99513</td>\n",
       "      <td>...</td>\n",
       "      <td>99595</td>\n",
       "      <td>99424</td>\n",
       "      <td>99626</td>\n",
       "      <td>99130</td>\n",
       "      <td>99414</td>\n",
       "      <td>99706</td>\n",
       "      <td>99657</td>\n",
       "      <td>99700</td>\n",
       "      <td>99522</td>\n",
       "      <td>99332</td>\n",
       "    </tr>\n",
       "  </tbody>\n",
       "</table>\n",
       "<p>5 rows × 56 columns</p>\n",
       "</div>"
      ],
      "text/plain": [
       "     Australia_Male  Austria_Male  Belgium_Male  Bulgaria_Male  Canada_Male  \\\n",
       "age                                                                           \n",
       "0            100000        100000        100000         100000       100000   \n",
       "1             99528         99600         99620          98938        99488   \n",
       "2             99495         99572         99570          98887        99453   \n",
       "3             99471         99545         99549          98854        99433   \n",
       "4             99458         99528         99528          98795        99421   \n",
       "\n",
       "     Czech Republic_Male  Denmark_Male  Estonia_Male  Finland_Male  \\\n",
       "age                                                                  \n",
       "0                 100000        100000        100000        100000   \n",
       "1                  99698         99689         99582         99740   \n",
       "2                  99674         99663         99521         99723   \n",
       "3                  99646         99657         99521         99717   \n",
       "4                  99637         99654         99521         99707   \n",
       "\n",
       "     France_Male  ...  Netherlands_Female  Poland_Female  Portugal_Female  \\\n",
       "age               ...                                                       \n",
       "0         100000  ...              100000         100000           100000   \n",
       "1          99586  ...               99649          99493            99693   \n",
       "2          99554  ...               99624          99461            99657   \n",
       "3          99531  ...               99609          99443            99639   \n",
       "4          99513  ...               99595          99424            99626   \n",
       "\n",
       "     Russia_Female  Slovakia_Female  Slovenia_Female  Spain_Female  \\\n",
       "age                                                                  \n",
       "0           100000           100000           100000        100000   \n",
       "1            99279            99526            99747         99713   \n",
       "2            99205            99486            99727         99682   \n",
       "3            99160            99444            99717         99669   \n",
       "4            99130            99414            99706         99657   \n",
       "\n",
       "     Sweden_Female  United Kingdom_Female  United States_Female  \n",
       "age                                                              \n",
       "0           100000                 100000                100000  \n",
       "1            99759                  99583                 99415  \n",
       "2            99735                  99558                 99376  \n",
       "3            99718                  99538                 99351  \n",
       "4            99700                  99522                 99332  \n",
       "\n",
       "[5 rows x 56 columns]"
      ]
     },
     "execution_count": 2,
     "metadata": {},
     "output_type": "execute_result"
    }
   ],
   "source": [
    "import pandas as pd\n",
    "file = r'C:\\Users\\Josè Valencia\\Desktop\\Actuarial2\\lifeTable.csv'\n",
    "dataset = pd.read_csv(file, index_col=0) \n",
    "dataset.head()"
   ]
  },
  {
   "cell_type": "markdown",
   "metadata": {},
   "source": [
    "#### Example with \"Russia_Female\" and \"French_Female\"."
   ]
  },
  {
   "cell_type": "code",
   "execution_count": 3,
   "metadata": {},
   "outputs": [],
   "source": [
    "rusas = dataset['Russia_Female']\n",
    "francesas = dataset['France_Female']"
   ]
  },
  {
   "cell_type": "code",
   "execution_count": 5,
   "metadata": {},
   "outputs": [],
   "source": [
    "from telma import BiometricModel"
   ]
  },
  {
   "cell_type": "markdown",
   "metadata": {},
   "source": [
    "## Basic actuarial table  <a id='gringo'></a>\n",
    "\n",
    "| AGE| COHORT FUNCTION | DEATH |PROBABILTY OF DEATH | PROBABILITY OF LIVING | LX |CENTRAL RATE MORTALITY  | TX|LIFE EXPECTANCY|\n",
    "|------|----------------------|--------------|---------------------------------------------------|----------------------------------------|---------|--------------|-----------|-----------------\n",
    "| $x$    | $l(x)$                                   |$d(x)$                                   | $q(x)$                                              | $p(x)$                                   | $Lx$ |$m(x)$|$Tx$ | $e(x)$|"
   ]
  },
  {
   "cell_type": "code",
   "execution_count": 6,
   "metadata": {},
   "outputs": [],
   "source": [
    "usa_male = dataset['United States_Male']"
   ]
  },
  {
   "cell_type": "code",
   "execution_count": 9,
   "metadata": {},
   "outputs": [
    {
     "name": "stdout",
     "output_type": "stream",
     "text": [
      "--------------------------------------------------\n",
      "Actuarial Table of United States_Male:\n",
      "--------------------------------------------------\n",
      "Date and Time:  Sat, 24 Jul 2021 10:29:31\n",
      "Region and Country:  Liguria , IT\n",
      "Omega ω :  111\n"
     ]
    },
    {
     "data": {
      "text/html": [
       "<div>\n",
       "<style scoped>\n",
       "    .dataframe tbody tr th:only-of-type {\n",
       "        vertical-align: middle;\n",
       "    }\n",
       "\n",
       "    .dataframe tbody tr th {\n",
       "        vertical-align: top;\n",
       "    }\n",
       "\n",
       "    .dataframe thead th {\n",
       "        text-align: right;\n",
       "    }\n",
       "</style>\n",
       "<table border=\"1\" class=\"dataframe\">\n",
       "  <thead>\n",
       "    <tr style=\"text-align: right;\">\n",
       "      <th></th>\n",
       "      <th>l(x)</th>\n",
       "      <th>dx</th>\n",
       "      <th>qx</th>\n",
       "      <th>px</th>\n",
       "      <th>Lx</th>\n",
       "      <th>Tx</th>\n",
       "      <th>mx</th>\n",
       "      <th>ex curtate</th>\n",
       "    </tr>\n",
       "  </thead>\n",
       "  <tbody>\n",
       "    <tr>\n",
       "      <th>0</th>\n",
       "      <td>100000</td>\n",
       "      <td>716.0</td>\n",
       "      <td>0.007160</td>\n",
       "      <td>0.992840</td>\n",
       "      <td>99642.0</td>\n",
       "      <td>7613388.5</td>\n",
       "      <td>0.007186</td>\n",
       "      <td>75.633870</td>\n",
       "    </tr>\n",
       "    <tr>\n",
       "      <th>1</th>\n",
       "      <td>99284</td>\n",
       "      <td>47.0</td>\n",
       "      <td>0.000473</td>\n",
       "      <td>0.999527</td>\n",
       "      <td>99260.5</td>\n",
       "      <td>7513746.5</td>\n",
       "      <td>0.000474</td>\n",
       "      <td>75.179314</td>\n",
       "    </tr>\n",
       "    <tr>\n",
       "      <th>2</th>\n",
       "      <td>99237</td>\n",
       "      <td>31.0</td>\n",
       "      <td>0.000312</td>\n",
       "      <td>0.999688</td>\n",
       "      <td>99221.5</td>\n",
       "      <td>7414486.0</td>\n",
       "      <td>0.000312</td>\n",
       "      <td>74.214920</td>\n",
       "    </tr>\n",
       "    <tr>\n",
       "      <th>3</th>\n",
       "      <td>99206</td>\n",
       "      <td>24.0</td>\n",
       "      <td>0.000242</td>\n",
       "      <td>0.999758</td>\n",
       "      <td>99194.0</td>\n",
       "      <td>7315264.5</td>\n",
       "      <td>0.000242</td>\n",
       "      <td>73.238111</td>\n",
       "    </tr>\n",
       "    <tr>\n",
       "      <th>4</th>\n",
       "      <td>99182</td>\n",
       "      <td>18.0</td>\n",
       "      <td>0.000181</td>\n",
       "      <td>0.999819</td>\n",
       "      <td>99173.0</td>\n",
       "      <td>7216070.5</td>\n",
       "      <td>0.000182</td>\n",
       "      <td>72.255833</td>\n",
       "    </tr>\n",
       "    <tr>\n",
       "      <th>...</th>\n",
       "      <td>...</td>\n",
       "      <td>...</td>\n",
       "      <td>...</td>\n",
       "      <td>...</td>\n",
       "      <td>...</td>\n",
       "      <td>...</td>\n",
       "      <td>...</td>\n",
       "      <td>...</td>\n",
       "    </tr>\n",
       "    <tr>\n",
       "      <th>106</th>\n",
       "      <td>51</td>\n",
       "      <td>24.0</td>\n",
       "      <td>0.470588</td>\n",
       "      <td>0.529412</td>\n",
       "      <td>39.0</td>\n",
       "      <td>75.0</td>\n",
       "      <td>0.615385</td>\n",
       "      <td>0.941176</td>\n",
       "    </tr>\n",
       "    <tr>\n",
       "      <th>107</th>\n",
       "      <td>27</td>\n",
       "      <td>13.0</td>\n",
       "      <td>0.481481</td>\n",
       "      <td>0.518519</td>\n",
       "      <td>20.5</td>\n",
       "      <td>36.0</td>\n",
       "      <td>0.634146</td>\n",
       "      <td>0.777778</td>\n",
       "    </tr>\n",
       "    <tr>\n",
       "      <th>108</th>\n",
       "      <td>14</td>\n",
       "      <td>7.0</td>\n",
       "      <td>0.500000</td>\n",
       "      <td>0.500000</td>\n",
       "      <td>10.5</td>\n",
       "      <td>15.5</td>\n",
       "      <td>0.666667</td>\n",
       "      <td>0.500000</td>\n",
       "    </tr>\n",
       "    <tr>\n",
       "      <th>109</th>\n",
       "      <td>7</td>\n",
       "      <td>4.0</td>\n",
       "      <td>0.571429</td>\n",
       "      <td>0.428571</td>\n",
       "      <td>5.0</td>\n",
       "      <td>5.0</td>\n",
       "      <td>0.800000</td>\n",
       "      <td>0.000000</td>\n",
       "    </tr>\n",
       "    <tr>\n",
       "      <th>110</th>\n",
       "      <td>3</td>\n",
       "      <td>3.0</td>\n",
       "      <td>1.000000</td>\n",
       "      <td>0.000000</td>\n",
       "      <td>NaN</td>\n",
       "      <td>0.0</td>\n",
       "      <td>NaN</td>\n",
       "      <td>NaN</td>\n",
       "    </tr>\n",
       "  </tbody>\n",
       "</table>\n",
       "<p>111 rows × 8 columns</p>\n",
       "</div>"
      ],
      "text/plain": [
       "       l(x)     dx        qx        px       Lx         Tx        mx  \\\n",
       "0    100000  716.0  0.007160  0.992840  99642.0  7613388.5  0.007186   \n",
       "1     99284   47.0  0.000473  0.999527  99260.5  7513746.5  0.000474   \n",
       "2     99237   31.0  0.000312  0.999688  99221.5  7414486.0  0.000312   \n",
       "3     99206   24.0  0.000242  0.999758  99194.0  7315264.5  0.000242   \n",
       "4     99182   18.0  0.000181  0.999819  99173.0  7216070.5  0.000182   \n",
       "..      ...    ...       ...       ...      ...        ...       ...   \n",
       "106      51   24.0  0.470588  0.529412     39.0       75.0  0.615385   \n",
       "107      27   13.0  0.481481  0.518519     20.5       36.0  0.634146   \n",
       "108      14    7.0  0.500000  0.500000     10.5       15.5  0.666667   \n",
       "109       7    4.0  0.571429  0.428571      5.0        5.0  0.800000   \n",
       "110       3    3.0  1.000000  0.000000      NaN        0.0       NaN   \n",
       "\n",
       "     ex curtate  \n",
       "0     75.633870  \n",
       "1     75.179314  \n",
       "2     74.214920  \n",
       "3     73.238111  \n",
       "4     72.255833  \n",
       "..          ...  \n",
       "106    0.941176  \n",
       "107    0.777778  \n",
       "108    0.500000  \n",
       "109    0.000000  \n",
       "110         NaN  \n",
       "\n",
       "[111 rows x 8 columns]"
      ]
     },
     "execution_count": 9,
     "metadata": {},
     "output_type": "execute_result"
    }
   ],
   "source": [
    "# USA_MALE TABLE. By passing the parameter we obtain \n",
    "BiometricModel().actuarialtable(usa_male) ## e(x) is \"curtate\""
   ]
  },
  {
   "cell_type": "markdown",
   "metadata": {},
   "source": [
    "#### I can pass more cohorts to the function to have the respective table. Russian and North American example"
   ]
  },
  {
   "cell_type": "code",
   "execution_count": 10,
   "metadata": {},
   "outputs": [],
   "source": [
    "rusas = dataset.Russia_Female\n",
    "usa_female = dataset['United States_Female']"
   ]
  },
  {
   "cell_type": "code",
   "execution_count": 11,
   "metadata": {},
   "outputs": [
    {
     "name": "stdout",
     "output_type": "stream",
     "text": [
      "----------------------------------------------------------------------\n",
      "Actuarial Table of Russia_Female and United States_Female:\n",
      "----------------------------------------------------------------------\n",
      "Date and Time:  Sat, 24 Jul 2021 10:30:56\n",
      "Region and Country: Liguria , IT\n",
      "Omega 1 ω :  111\n",
      "Omega 2 ω :  111\n"
     ]
    },
    {
     "data": {
      "text/html": [
       "<div>\n",
       "<style scoped>\n",
       "    .dataframe tbody tr th:only-of-type {\n",
       "        vertical-align: middle;\n",
       "    }\n",
       "\n",
       "    .dataframe tbody tr th {\n",
       "        vertical-align: top;\n",
       "    }\n",
       "\n",
       "    .dataframe thead th {\n",
       "        text-align: right;\n",
       "    }\n",
       "</style>\n",
       "<table border=\"1\" class=\"dataframe\">\n",
       "  <thead>\n",
       "    <tr style=\"text-align: right;\">\n",
       "      <th></th>\n",
       "      <th>l(x)</th>\n",
       "      <th>l(y)</th>\n",
       "      <th>dx</th>\n",
       "      <th>dy</th>\n",
       "      <th>qx</th>\n",
       "      <th>qy</th>\n",
       "      <th>px</th>\n",
       "      <th>py</th>\n",
       "      <th>Lx</th>\n",
       "      <th>Ly</th>\n",
       "      <th>Tx</th>\n",
       "      <th>Ty</th>\n",
       "      <th>mx</th>\n",
       "      <th>my</th>\n",
       "      <th>ex</th>\n",
       "      <th>ey</th>\n",
       "    </tr>\n",
       "  </thead>\n",
       "  <tbody>\n",
       "    <tr>\n",
       "      <th>0</th>\n",
       "      <td>100000</td>\n",
       "      <td>100000</td>\n",
       "      <td>721.0</td>\n",
       "      <td>585.0</td>\n",
       "      <td>0.007210</td>\n",
       "      <td>0.005850</td>\n",
       "      <td>0.992790</td>\n",
       "      <td>0.994150</td>\n",
       "      <td>99639.5</td>\n",
       "      <td>99707.5</td>\n",
       "      <td>7469927.5</td>\n",
       "      <td>8103792.0</td>\n",
       "      <td>0.007236</td>\n",
       "      <td>0.005867</td>\n",
       "      <td>74.199270</td>\n",
       "      <td>80.537840</td>\n",
       "    </tr>\n",
       "    <tr>\n",
       "      <th>1</th>\n",
       "      <td>99279</td>\n",
       "      <td>99415</td>\n",
       "      <td>74.0</td>\n",
       "      <td>39.0</td>\n",
       "      <td>0.000745</td>\n",
       "      <td>0.000392</td>\n",
       "      <td>0.999255</td>\n",
       "      <td>0.999608</td>\n",
       "      <td>99242.0</td>\n",
       "      <td>99395.5</td>\n",
       "      <td>7370288.0</td>\n",
       "      <td>8004084.5</td>\n",
       "      <td>0.000746</td>\n",
       "      <td>0.000392</td>\n",
       "      <td>73.738132</td>\n",
       "      <td>80.011759</td>\n",
       "    </tr>\n",
       "    <tr>\n",
       "      <th>2</th>\n",
       "      <td>99205</td>\n",
       "      <td>99376</td>\n",
       "      <td>45.0</td>\n",
       "      <td>25.0</td>\n",
       "      <td>0.000454</td>\n",
       "      <td>0.000252</td>\n",
       "      <td>0.999546</td>\n",
       "      <td>0.999748</td>\n",
       "      <td>99182.5</td>\n",
       "      <td>99363.5</td>\n",
       "      <td>7271046.0</td>\n",
       "      <td>7904689.0</td>\n",
       "      <td>0.000454</td>\n",
       "      <td>0.000252</td>\n",
       "      <td>72.793135</td>\n",
       "      <td>79.043159</td>\n",
       "    </tr>\n",
       "    <tr>\n",
       "      <th>3</th>\n",
       "      <td>99160</td>\n",
       "      <td>99351</td>\n",
       "      <td>30.0</td>\n",
       "      <td>19.0</td>\n",
       "      <td>0.000303</td>\n",
       "      <td>0.000191</td>\n",
       "      <td>0.999697</td>\n",
       "      <td>0.999809</td>\n",
       "      <td>99145.0</td>\n",
       "      <td>99341.5</td>\n",
       "      <td>7171863.5</td>\n",
       "      <td>7805325.5</td>\n",
       "      <td>0.000303</td>\n",
       "      <td>0.000191</td>\n",
       "      <td>71.826170</td>\n",
       "      <td>78.063049</td>\n",
       "    </tr>\n",
       "    <tr>\n",
       "      <th>4</th>\n",
       "      <td>99130</td>\n",
       "      <td>99332</td>\n",
       "      <td>31.0</td>\n",
       "      <td>15.0</td>\n",
       "      <td>0.000313</td>\n",
       "      <td>0.000151</td>\n",
       "      <td>0.999687</td>\n",
       "      <td>0.999849</td>\n",
       "      <td>99114.5</td>\n",
       "      <td>99324.5</td>\n",
       "      <td>7072718.5</td>\n",
       "      <td>7705984.0</td>\n",
       "      <td>0.000313</td>\n",
       "      <td>0.000151</td>\n",
       "      <td>70.847907</td>\n",
       "      <td>77.077981</td>\n",
       "    </tr>\n",
       "    <tr>\n",
       "      <th>...</th>\n",
       "      <td>...</td>\n",
       "      <td>...</td>\n",
       "      <td>...</td>\n",
       "      <td>...</td>\n",
       "      <td>...</td>\n",
       "      <td>...</td>\n",
       "      <td>...</td>\n",
       "      <td>...</td>\n",
       "      <td>...</td>\n",
       "      <td>...</td>\n",
       "      <td>...</td>\n",
       "      <td>...</td>\n",
       "      <td>...</td>\n",
       "      <td>...</td>\n",
       "      <td>...</td>\n",
       "      <td>...</td>\n",
       "    </tr>\n",
       "    <tr>\n",
       "      <th>106</th>\n",
       "      <td>14</td>\n",
       "      <td>198</td>\n",
       "      <td>7.0</td>\n",
       "      <td>86.0</td>\n",
       "      <td>0.500000</td>\n",
       "      <td>0.434343</td>\n",
       "      <td>0.500000</td>\n",
       "      <td>0.565657</td>\n",
       "      <td>10.5</td>\n",
       "      <td>155.0</td>\n",
       "      <td>19.5</td>\n",
       "      <td>312.0</td>\n",
       "      <td>0.666667</td>\n",
       "      <td>0.554839</td>\n",
       "      <td>0.857143</td>\n",
       "      <td>1.035354</td>\n",
       "    </tr>\n",
       "    <tr>\n",
       "      <th>107</th>\n",
       "      <td>7</td>\n",
       "      <td>112</td>\n",
       "      <td>4.0</td>\n",
       "      <td>51.0</td>\n",
       "      <td>0.571429</td>\n",
       "      <td>0.455357</td>\n",
       "      <td>0.428571</td>\n",
       "      <td>0.544643</td>\n",
       "      <td>5.0</td>\n",
       "      <td>86.5</td>\n",
       "      <td>9.0</td>\n",
       "      <td>157.0</td>\n",
       "      <td>0.800000</td>\n",
       "      <td>0.589595</td>\n",
       "      <td>0.714286</td>\n",
       "      <td>0.830357</td>\n",
       "    </tr>\n",
       "    <tr>\n",
       "      <th>108</th>\n",
       "      <td>3</td>\n",
       "      <td>61</td>\n",
       "      <td>1.0</td>\n",
       "      <td>29.0</td>\n",
       "      <td>0.333333</td>\n",
       "      <td>0.475410</td>\n",
       "      <td>0.666667</td>\n",
       "      <td>0.524590</td>\n",
       "      <td>2.5</td>\n",
       "      <td>46.5</td>\n",
       "      <td>4.0</td>\n",
       "      <td>70.5</td>\n",
       "      <td>0.400000</td>\n",
       "      <td>0.623656</td>\n",
       "      <td>0.666667</td>\n",
       "      <td>0.524590</td>\n",
       "    </tr>\n",
       "    <tr>\n",
       "      <th>109</th>\n",
       "      <td>2</td>\n",
       "      <td>32</td>\n",
       "      <td>1.0</td>\n",
       "      <td>16.0</td>\n",
       "      <td>0.500000</td>\n",
       "      <td>0.500000</td>\n",
       "      <td>0.500000</td>\n",
       "      <td>0.500000</td>\n",
       "      <td>1.5</td>\n",
       "      <td>24.0</td>\n",
       "      <td>1.5</td>\n",
       "      <td>24.0</td>\n",
       "      <td>0.666667</td>\n",
       "      <td>0.666667</td>\n",
       "      <td>0.000000</td>\n",
       "      <td>0.000000</td>\n",
       "    </tr>\n",
       "    <tr>\n",
       "      <th>110</th>\n",
       "      <td>1</td>\n",
       "      <td>16</td>\n",
       "      <td>1.0</td>\n",
       "      <td>16.0</td>\n",
       "      <td>1.000000</td>\n",
       "      <td>1.000000</td>\n",
       "      <td>0.000000</td>\n",
       "      <td>0.000000</td>\n",
       "      <td>NaN</td>\n",
       "      <td>NaN</td>\n",
       "      <td>0.0</td>\n",
       "      <td>0.0</td>\n",
       "      <td>NaN</td>\n",
       "      <td>NaN</td>\n",
       "      <td>NaN</td>\n",
       "      <td>NaN</td>\n",
       "    </tr>\n",
       "  </tbody>\n",
       "</table>\n",
       "<p>111 rows × 16 columns</p>\n",
       "</div>"
      ],
      "text/plain": [
       "       l(x)    l(y)     dx     dy        qx        qy        px        py  \\\n",
       "0    100000  100000  721.0  585.0  0.007210  0.005850  0.992790  0.994150   \n",
       "1     99279   99415   74.0   39.0  0.000745  0.000392  0.999255  0.999608   \n",
       "2     99205   99376   45.0   25.0  0.000454  0.000252  0.999546  0.999748   \n",
       "3     99160   99351   30.0   19.0  0.000303  0.000191  0.999697  0.999809   \n",
       "4     99130   99332   31.0   15.0  0.000313  0.000151  0.999687  0.999849   \n",
       "..      ...     ...    ...    ...       ...       ...       ...       ...   \n",
       "106      14     198    7.0   86.0  0.500000  0.434343  0.500000  0.565657   \n",
       "107       7     112    4.0   51.0  0.571429  0.455357  0.428571  0.544643   \n",
       "108       3      61    1.0   29.0  0.333333  0.475410  0.666667  0.524590   \n",
       "109       2      32    1.0   16.0  0.500000  0.500000  0.500000  0.500000   \n",
       "110       1      16    1.0   16.0  1.000000  1.000000  0.000000  0.000000   \n",
       "\n",
       "          Lx       Ly         Tx         Ty        mx        my         ex  \\\n",
       "0    99639.5  99707.5  7469927.5  8103792.0  0.007236  0.005867  74.199270   \n",
       "1    99242.0  99395.5  7370288.0  8004084.5  0.000746  0.000392  73.738132   \n",
       "2    99182.5  99363.5  7271046.0  7904689.0  0.000454  0.000252  72.793135   \n",
       "3    99145.0  99341.5  7171863.5  7805325.5  0.000303  0.000191  71.826170   \n",
       "4    99114.5  99324.5  7072718.5  7705984.0  0.000313  0.000151  70.847907   \n",
       "..       ...      ...        ...        ...       ...       ...        ...   \n",
       "106     10.5    155.0       19.5      312.0  0.666667  0.554839   0.857143   \n",
       "107      5.0     86.5        9.0      157.0  0.800000  0.589595   0.714286   \n",
       "108      2.5     46.5        4.0       70.5  0.400000  0.623656   0.666667   \n",
       "109      1.5     24.0        1.5       24.0  0.666667  0.666667   0.000000   \n",
       "110      NaN      NaN        0.0        0.0       NaN       NaN        NaN   \n",
       "\n",
       "            ey  \n",
       "0    80.537840  \n",
       "1    80.011759  \n",
       "2    79.043159  \n",
       "3    78.063049  \n",
       "4    77.077981  \n",
       "..         ...  \n",
       "106   1.035354  \n",
       "107   0.830357  \n",
       "108   0.524590  \n",
       "109   0.000000  \n",
       "110        NaN  \n",
       "\n",
       "[111 rows x 16 columns]"
      ]
     },
     "execution_count": 11,
     "metadata": {},
     "output_type": "execute_result"
    }
   ],
   "source": [
    "BiometricModel().actuarialtable2(rusas, usa_female) # It follows the order lx = Russian, ly = American"
   ]
  },
  {
   "cell_type": "markdown",
   "metadata": {},
   "source": [
    "# Evaluating a different cohort with different length\n",
    "\n",
    "### The dummy model"
   ]
  },
  {
   "cell_type": "markdown",
   "metadata": {},
   "source": [
    "###### The model will be specified as:\n",
    "$$F(X) = 1- e^{-0.0001x^{e^{x/115}}}$$\n",
    "\n",
    "\n",
    "$$S(X) = 1-F(X)= e^{-0.0001x^{e^{x/115}}}$$\n",
    "\n",
    "$Clearly:$\n",
    "\n",
    "  \\begin{equation}\n",
    "   1- S(X) = F(X)=\n",
    "    \\begin{cases}\n",
    "      0, & \\text{if}\\ x < 0 \\\\\n",
    "      1 - e^{-0.0001x^{e^{x/115}}}, & \\text{if}\\ 0 \\le X < 115\\\\\n",
    "      1, & \\text{if}\\ x \\geq\\ 115\n",
    "    \\end{cases}\n",
    "  \\end{equation}\n",
    "$F(115) = 1$ if $1 - e^{(-0.0001 \\cdot 115^{e^{(115/115)}})}.$ Consequently: $S(115) = 0$."
   ]
  },
  {
   "cell_type": "code",
   "execution_count": 14,
   "metadata": {},
   "outputs": [
    {
     "data": {
      "text/plain": [
       "0      100000.0\n",
       "1       99990.0\n",
       "2       99980.0\n",
       "3       99969.0\n",
       "4       99958.0\n",
       "         ...   \n",
       "102        54.0\n",
       "103        20.0\n",
       "104         7.0\n",
       "105         2.0\n",
       "106         0.0\n",
       "Length: 107, dtype: float64"
      ]
     },
     "execution_count": 14,
     "metadata": {},
     "output_type": "execute_result"
    }
   ],
   "source": [
    "import numpy as np\n",
    "def vettore(): # the fictious model\n",
    "    x = np.arange(0,115)\n",
    "    numera = np.exp(-.0001*x**(np.exp(x/115)))\n",
    "    l = pd.Series(numera*10**5)\n",
    "    vettore = l[0:-8].round()\n",
    "    return vettore\n",
    "modelo = vettore()\n",
    "modelo # Age and livings of the model"
   ]
  },
  {
   "cell_type": "markdown",
   "metadata": {},
   "source": [
    "##### Notice that omega $\\omega$ is when the cohort desappear"
   ]
  },
  {
   "cell_type": "code",
   "execution_count": 16,
   "metadata": {},
   "outputs": [
    {
     "name": "stdout",
     "output_type": "stream",
     "text": [
      "----------------------------------------------------------------------\n",
      "Actuarial Table of France_Female and None:\n",
      "----------------------------------------------------------------------\n",
      "Date and Time:  Sat, 24 Jul 2021 10:35:03\n",
      "Region and Country: Liguria , IT\n",
      "Omega 1 ω :  111\n",
      "Omega 2 ω :  106\n"
     ]
    },
    {
     "data": {
      "text/html": [
       "<div>\n",
       "<style scoped>\n",
       "    .dataframe tbody tr th:only-of-type {\n",
       "        vertical-align: middle;\n",
       "    }\n",
       "\n",
       "    .dataframe tbody tr th {\n",
       "        vertical-align: top;\n",
       "    }\n",
       "\n",
       "    .dataframe thead th {\n",
       "        text-align: right;\n",
       "    }\n",
       "</style>\n",
       "<table border=\"1\" class=\"dataframe\">\n",
       "  <thead>\n",
       "    <tr style=\"text-align: right;\">\n",
       "      <th></th>\n",
       "      <th>l(x)</th>\n",
       "      <th>l(y)</th>\n",
       "      <th>dx</th>\n",
       "      <th>dy</th>\n",
       "      <th>qx</th>\n",
       "      <th>qy</th>\n",
       "      <th>px</th>\n",
       "      <th>py</th>\n",
       "      <th>Lx</th>\n",
       "      <th>Ly</th>\n",
       "      <th>Tx</th>\n",
       "      <th>Ty</th>\n",
       "      <th>mx</th>\n",
       "      <th>my</th>\n",
       "      <th>ex</th>\n",
       "      <th>ey</th>\n",
       "    </tr>\n",
       "  </thead>\n",
       "  <tbody>\n",
       "    <tr>\n",
       "      <th>0</th>\n",
       "      <td>100000</td>\n",
       "      <td>100000</td>\n",
       "      <td>336.0</td>\n",
       "      <td>10.0</td>\n",
       "      <td>0.003360</td>\n",
       "      <td>0.00010</td>\n",
       "      <td>0.996640</td>\n",
       "      <td>0.99990</td>\n",
       "      <td>99832.0</td>\n",
       "      <td>99995.0</td>\n",
       "      <td>8444605.0</td>\n",
       "      <td>7789332.0</td>\n",
       "      <td>0.003366</td>\n",
       "      <td>0.00010</td>\n",
       "      <td>83.945990</td>\n",
       "      <td>77.393320</td>\n",
       "    </tr>\n",
       "    <tr>\n",
       "      <th>1</th>\n",
       "      <td>99664</td>\n",
       "      <td>99990</td>\n",
       "      <td>26.0</td>\n",
       "      <td>10.0</td>\n",
       "      <td>0.000261</td>\n",
       "      <td>0.00010</td>\n",
       "      <td>0.999739</td>\n",
       "      <td>0.99990</td>\n",
       "      <td>99651.0</td>\n",
       "      <td>99985.0</td>\n",
       "      <td>8344773.0</td>\n",
       "      <td>7689337.0</td>\n",
       "      <td>0.000261</td>\n",
       "      <td>0.00010</td>\n",
       "      <td>83.228999</td>\n",
       "      <td>76.401060</td>\n",
       "    </tr>\n",
       "    <tr>\n",
       "      <th>2</th>\n",
       "      <td>99638</td>\n",
       "      <td>99980</td>\n",
       "      <td>19.0</td>\n",
       "      <td>11.0</td>\n",
       "      <td>0.000191</td>\n",
       "      <td>0.00011</td>\n",
       "      <td>0.999809</td>\n",
       "      <td>0.99989</td>\n",
       "      <td>99628.5</td>\n",
       "      <td>99974.5</td>\n",
       "      <td>8245122.0</td>\n",
       "      <td>7589352.0</td>\n",
       "      <td>0.000191</td>\n",
       "      <td>0.00011</td>\n",
       "      <td>82.250718</td>\n",
       "      <td>75.408702</td>\n",
       "    </tr>\n",
       "    <tr>\n",
       "      <th>3</th>\n",
       "      <td>99619</td>\n",
       "      <td>99969</td>\n",
       "      <td>12.0</td>\n",
       "      <td>11.0</td>\n",
       "      <td>0.000120</td>\n",
       "      <td>0.00011</td>\n",
       "      <td>0.999880</td>\n",
       "      <td>0.99989</td>\n",
       "      <td>99613.0</td>\n",
       "      <td>99963.5</td>\n",
       "      <td>8145493.5</td>\n",
       "      <td>7489377.5</td>\n",
       "      <td>0.000120</td>\n",
       "      <td>0.00011</td>\n",
       "      <td>81.266405</td>\n",
       "      <td>74.416999</td>\n",
       "    </tr>\n",
       "    <tr>\n",
       "      <th>4</th>\n",
       "      <td>99607</td>\n",
       "      <td>99958</td>\n",
       "      <td>11.0</td>\n",
       "      <td>12.0</td>\n",
       "      <td>0.000110</td>\n",
       "      <td>0.00012</td>\n",
       "      <td>0.999890</td>\n",
       "      <td>0.99988</td>\n",
       "      <td>99601.5</td>\n",
       "      <td>99952.0</td>\n",
       "      <td>8045880.5</td>\n",
       "      <td>7389414.0</td>\n",
       "      <td>0.000110</td>\n",
       "      <td>0.00012</td>\n",
       "      <td>80.276195</td>\n",
       "      <td>73.425189</td>\n",
       "    </tr>\n",
       "    <tr>\n",
       "      <th>...</th>\n",
       "      <td>...</td>\n",
       "      <td>...</td>\n",
       "      <td>...</td>\n",
       "      <td>...</td>\n",
       "      <td>...</td>\n",
       "      <td>...</td>\n",
       "      <td>...</td>\n",
       "      <td>...</td>\n",
       "      <td>...</td>\n",
       "      <td>...</td>\n",
       "      <td>...</td>\n",
       "      <td>...</td>\n",
       "      <td>...</td>\n",
       "      <td>...</td>\n",
       "      <td>...</td>\n",
       "      <td>...</td>\n",
       "    </tr>\n",
       "    <tr>\n",
       "      <th>106</th>\n",
       "      <td>194</td>\n",
       "      <td>0</td>\n",
       "      <td>91.0</td>\n",
       "      <td>0.0</td>\n",
       "      <td>0.469072</td>\n",
       "      <td>1.00000</td>\n",
       "      <td>0.530928</td>\n",
       "      <td>0.00000</td>\n",
       "      <td>148.5</td>\n",
       "      <td>0.0</td>\n",
       "      <td>284.0</td>\n",
       "      <td>0.0</td>\n",
       "      <td>0.612795</td>\n",
       "      <td>NaN</td>\n",
       "      <td>0.932990</td>\n",
       "      <td>0.000000</td>\n",
       "    </tr>\n",
       "    <tr>\n",
       "      <th>107</th>\n",
       "      <td>103</td>\n",
       "      <td>0</td>\n",
       "      <td>51.0</td>\n",
       "      <td>0.0</td>\n",
       "      <td>0.495146</td>\n",
       "      <td>1.00000</td>\n",
       "      <td>0.504854</td>\n",
       "      <td>0.00000</td>\n",
       "      <td>77.5</td>\n",
       "      <td>0.0</td>\n",
       "      <td>135.5</td>\n",
       "      <td>0.0</td>\n",
       "      <td>0.658065</td>\n",
       "      <td>NaN</td>\n",
       "      <td>0.757282</td>\n",
       "      <td>0.000000</td>\n",
       "    </tr>\n",
       "    <tr>\n",
       "      <th>108</th>\n",
       "      <td>52</td>\n",
       "      <td>0</td>\n",
       "      <td>26.0</td>\n",
       "      <td>0.0</td>\n",
       "      <td>0.500000</td>\n",
       "      <td>1.00000</td>\n",
       "      <td>0.500000</td>\n",
       "      <td>0.00000</td>\n",
       "      <td>39.0</td>\n",
       "      <td>0.0</td>\n",
       "      <td>58.0</td>\n",
       "      <td>0.0</td>\n",
       "      <td>0.666667</td>\n",
       "      <td>NaN</td>\n",
       "      <td>0.500000</td>\n",
       "      <td>0.000000</td>\n",
       "    </tr>\n",
       "    <tr>\n",
       "      <th>109</th>\n",
       "      <td>26</td>\n",
       "      <td>0</td>\n",
       "      <td>14.0</td>\n",
       "      <td>0.0</td>\n",
       "      <td>0.538462</td>\n",
       "      <td>1.00000</td>\n",
       "      <td>0.461538</td>\n",
       "      <td>0.00000</td>\n",
       "      <td>19.0</td>\n",
       "      <td>0.0</td>\n",
       "      <td>19.0</td>\n",
       "      <td>0.0</td>\n",
       "      <td>0.736842</td>\n",
       "      <td>NaN</td>\n",
       "      <td>0.000000</td>\n",
       "      <td>0.000000</td>\n",
       "    </tr>\n",
       "    <tr>\n",
       "      <th>110</th>\n",
       "      <td>12</td>\n",
       "      <td>0</td>\n",
       "      <td>12.0</td>\n",
       "      <td>0.0</td>\n",
       "      <td>1.000000</td>\n",
       "      <td>1.00000</td>\n",
       "      <td>0.000000</td>\n",
       "      <td>0.00000</td>\n",
       "      <td>NaN</td>\n",
       "      <td>NaN</td>\n",
       "      <td>0.0</td>\n",
       "      <td>0.0</td>\n",
       "      <td>NaN</td>\n",
       "      <td>NaN</td>\n",
       "      <td>NaN</td>\n",
       "      <td>NaN</td>\n",
       "    </tr>\n",
       "  </tbody>\n",
       "</table>\n",
       "<p>111 rows × 16 columns</p>\n",
       "</div>"
      ],
      "text/plain": [
       "       l(x)    l(y)     dx    dy        qx       qy        px       py  \\\n",
       "0    100000  100000  336.0  10.0  0.003360  0.00010  0.996640  0.99990   \n",
       "1     99664   99990   26.0  10.0  0.000261  0.00010  0.999739  0.99990   \n",
       "2     99638   99980   19.0  11.0  0.000191  0.00011  0.999809  0.99989   \n",
       "3     99619   99969   12.0  11.0  0.000120  0.00011  0.999880  0.99989   \n",
       "4     99607   99958   11.0  12.0  0.000110  0.00012  0.999890  0.99988   \n",
       "..      ...     ...    ...   ...       ...      ...       ...      ...   \n",
       "106     194       0   91.0   0.0  0.469072  1.00000  0.530928  0.00000   \n",
       "107     103       0   51.0   0.0  0.495146  1.00000  0.504854  0.00000   \n",
       "108      52       0   26.0   0.0  0.500000  1.00000  0.500000  0.00000   \n",
       "109      26       0   14.0   0.0  0.538462  1.00000  0.461538  0.00000   \n",
       "110      12       0   12.0   0.0  1.000000  1.00000  0.000000  0.00000   \n",
       "\n",
       "          Lx       Ly         Tx         Ty        mx       my         ex  \\\n",
       "0    99832.0  99995.0  8444605.0  7789332.0  0.003366  0.00010  83.945990   \n",
       "1    99651.0  99985.0  8344773.0  7689337.0  0.000261  0.00010  83.228999   \n",
       "2    99628.5  99974.5  8245122.0  7589352.0  0.000191  0.00011  82.250718   \n",
       "3    99613.0  99963.5  8145493.5  7489377.5  0.000120  0.00011  81.266405   \n",
       "4    99601.5  99952.0  8045880.5  7389414.0  0.000110  0.00012  80.276195   \n",
       "..       ...      ...        ...        ...       ...      ...        ...   \n",
       "106    148.5      0.0      284.0        0.0  0.612795      NaN   0.932990   \n",
       "107     77.5      0.0      135.5        0.0  0.658065      NaN   0.757282   \n",
       "108     39.0      0.0       58.0        0.0  0.666667      NaN   0.500000   \n",
       "109     19.0      0.0       19.0        0.0  0.736842      NaN   0.000000   \n",
       "110      NaN      NaN        0.0        0.0       NaN      NaN        NaN   \n",
       "\n",
       "            ey  \n",
       "0    77.393320  \n",
       "1    76.401060  \n",
       "2    75.408702  \n",
       "3    74.416999  \n",
       "4    73.425189  \n",
       "..         ...  \n",
       "106   0.000000  \n",
       "107   0.000000  \n",
       "108   0.000000  \n",
       "109   0.000000  \n",
       "110        NaN  \n",
       "\n",
       "[111 rows x 16 columns]"
      ]
     },
     "execution_count": 16,
     "metadata": {},
     "output_type": "execute_result"
    }
   ],
   "source": [
    "BiometricModel().actuarialtable2(francesas,modelo) # French and Dummy model"
   ]
  },
  {
   "cell_type": "markdown",
   "metadata": {},
   "source": [
    "### Calculating Omega of one or two cohorts"
   ]
  },
  {
   "cell_type": "code",
   "execution_count": 17,
   "metadata": {},
   "outputs": [
    {
     "data": {
      "text/plain": [
       "(111, 106)"
      ]
     },
     "execution_count": 17,
     "metadata": {},
     "output_type": "execute_result"
    }
   ],
   "source": [
    "BiometricModel().omega(rusas,modelo)  ## Omega can evaluate two cohorts"
   ]
  },
  {
   "cell_type": "code",
   "execution_count": 18,
   "metadata": {},
   "outputs": [
    {
     "data": {
      "text/plain": [
       "106"
      ]
     },
     "execution_count": 18,
     "metadata": {},
     "output_type": "execute_result"
    }
   ],
   "source": [
    "BiometricModel().omega(modelo)  # likewise Omega can evaluate one cohort"
   ]
  },
  {
   "cell_type": "code",
   "execution_count": 19,
   "metadata": {},
   "outputs": [
    {
     "data": {
      "text/plain": [
       "111"
      ]
     },
     "execution_count": 19,
     "metadata": {},
     "output_type": "execute_result"
    }
   ],
   "source": [
    "BiometricModel().omega(usa_male)"
   ]
  },
  {
   "cell_type": "code",
   "execution_count": 20,
   "metadata": {},
   "outputs": [
    {
     "data": {
      "text/plain": [
       "(111, 107)"
      ]
     },
     "execution_count": 20,
     "metadata": {},
     "output_type": "execute_result"
    }
   ],
   "source": [
    "len(usa_male), len(modelo) #len is length. Is is length in R"
   ]
  },
  {
   "cell_type": "markdown",
   "metadata": {},
   "source": [
    "#### Note que no es del todo trivial en cuanto la longitud de lx puede no ser la misma. <br>De hecho el modelo fake que plantee tiene longitud 107, pero de hecho en 106 que la coorte desaparece. (inf_actuarial) <br>Por otro lado la longitudad de rusas tambien es 111 pero de hecho a la edad 110 hay aùn una mujer, por lo que el infinito actuarial es 111."
   ]
  },
  {
   "cell_type": "markdown",
   "metadata": {},
   "source": [
    "#### Calculation of probabilities such as life expectancy.\n",
    "##### It can be calculated if it is curtate or complete. By default it is complete. <br>\n",
    "Example."
   ]
  },
  {
   "cell_type": "code",
   "execution_count": 21,
   "metadata": {},
   "outputs": [
    {
     "data": {
      "text/plain": [
       "76.13"
      ]
     },
     "execution_count": 21,
     "metadata": {},
     "output_type": "execute_result"
    }
   ],
   "source": [
    "BiometricModel().life_expectancy(usa_male, age=0, kind ='complete') # Complete life expectancy at birth for a usa_male"
   ]
  },
  {
   "cell_type": "code",
   "execution_count": 22,
   "metadata": {},
   "outputs": [
    {
     "data": {
      "text/plain": [
       "75.63"
      ]
     },
     "execution_count": 22,
     "metadata": {},
     "output_type": "execute_result"
    }
   ],
   "source": [
    "BiometricModel().life_expectancy(usa_male, age=0, kind ='curtate') # Curtate life expectancy at birth for a usa_male"
   ]
  },
  {
   "cell_type": "markdown",
   "metadata": {},
   "source": [
    "[Usa_male](#gringo) click here to return to the American male table and check results with the actuarial table."
   ]
  },
  {
   "cell_type": "code",
   "execution_count": 28,
   "metadata": {},
   "outputs": [
    {
     "data": {
      "text/plain": [
       "7513746.5"
      ]
     },
     "execution_count": 28,
     "metadata": {},
     "output_type": "execute_result"
    }
   ],
   "source": [
    "BiometricModel().Tx(usa_male, age=1)"
   ]
  },
  {
   "cell_type": "code",
   "execution_count": 30,
   "metadata": {},
   "outputs": [
    {
     "data": {
      "text/plain": [
       "99173.0"
      ]
     },
     "execution_count": 30,
     "metadata": {},
     "output_type": "execute_result"
    }
   ],
   "source": [
    "BiometricModel().Lx(usa_male, age=4)"
   ]
  },
  {
   "cell_type": "code",
   "execution_count": 31,
   "metadata": {},
   "outputs": [
    {
     "data": {
      "text/plain": [
       "0.0002516"
      ]
     },
     "execution_count": 31,
     "metadata": {},
     "output_type": "execute_result"
    }
   ],
   "source": [
    "BiometricModel().central_rate_mortality(usa_female, age=2)"
   ]
  },
  {
   "cell_type": "markdown",
   "metadata": {},
   "source": [
    "### Calculating Probabilities with OneLife and MultipleLives"
   ]
  },
  {
   "cell_type": "code",
   "execution_count": 34,
   "metadata": {},
   "outputs": [],
   "source": [
    "from telma import MultipleLives, OneLife"
   ]
  },
  {
   "cell_type": "markdown",
   "metadata": {},
   "source": [
    "### Una cohorte"
   ]
  },
  {
   "cell_type": "code",
   "execution_count": 35,
   "metadata": {},
   "outputs": [
    {
     "name": "stdout",
     "output_type": "stream",
     "text": [
      "The probability that 23 will survive within 1 is:\n"
     ]
    },
    {
     "data": {
      "text/plain": [
       "0.9997483441042057"
      ]
     },
     "execution_count": 35,
     "metadata": {},
     "output_type": "execute_result"
    }
   ],
   "source": [
    "OneLife().p_x(francesas, age=23)"
   ]
  },
  {
   "cell_type": "code",
   "execution_count": 36,
   "metadata": {},
   "outputs": [
    {
     "name": "stdout",
     "output_type": "stream",
     "text": [
      "The probability that 23 will survive within 10 is:\n"
     ]
    },
    {
     "data": {
      "text/plain": [
       "0.9968694006563186"
      ]
     },
     "execution_count": 36,
     "metadata": {},
     "output_type": "execute_result"
    }
   ],
   "source": [
    "OneLife().p_x(francesas, age=23, t=10)"
   ]
  },
  {
   "cell_type": "code",
   "execution_count": 37,
   "metadata": {},
   "outputs": [
    {
     "name": "stdout",
     "output_type": "stream",
     "text": [
      "The life insurance to pay is:\n"
     ]
    },
    {
     "data": {
      "text/plain": [
       "(53561.02, 0.5356102381659709)"
      ]
     },
     "execution_count": 37,
     "metadata": {},
     "output_type": "execute_result"
    }
   ],
   "source": [
    "OneLife().p_x(francesas, age=23, t=30, capital = 100000, lump_sum=True) ## Is can calculate lump sump"
   ]
  },
  {
   "cell_type": "code",
   "execution_count": null,
   "metadata": {},
   "outputs": [],
   "source": []
  },
  {
   "cell_type": "code",
   "execution_count": 53,
   "metadata": {},
   "outputs": [
    {
     "data": {
      "text/plain": [
       "0      100000.0\n",
       "1       99112.0\n",
       "2       99061.0\n",
       "3       99025.0\n",
       "4       98997.0\n",
       "         ...   \n",
       "104        28.0\n",
       "105        13.0\n",
       "106         6.0\n",
       "107         2.0\n",
       "108         1.0\n",
       "Name: x, Length: 109, dtype: float64"
      ]
     },
     "execution_count": 53,
     "metadata": {},
     "output_type": "execute_result"
    }
   ],
   "source": [
    "italia = pd.read_csv('italiani.csv').x  ## Old italian cohort sim92\n",
    "italia"
   ]
  },
  {
   "cell_type": "code",
   "execution_count": 50,
   "metadata": {},
   "outputs": [
    {
     "name": "stdout",
     "output_type": "stream",
     "text": [
      "The life insurance to pay is:\n"
     ]
    },
    {
     "data": {
      "text/plain": [
       "(51575.35, 0.5157534761499296)"
      ]
     },
     "execution_count": 50,
     "metadata": {},
     "output_type": "execute_result"
    }
   ],
   "source": [
    "OneLife().p_x(italia, age=23, t=30, capital = 100000, lump_sum=True) ## It can calculate lump sump if True"
   ]
  },
  {
   "cell_type": "markdown",
   "metadata": {},
   "source": [
    "### Joint Probabilities"
   ]
  },
  {
   "cell_type": "markdown",
   "metadata": {},
   "source": [
    "|Function|Notation|The story|\n",
    "|-----|----------------|-------|\n",
    "|p_xy|$p_{xy}$ = $p_x \\cdot p_y$| Both survive|\n",
    "|q_xy|$q_{xy}$= $q_x \\cdot p_y+ q_y \\cdot p_x$ + $q_x \\cdot q_y$|At least one die|\n",
    "|extinction|$q_\\bar{{xy}}$=$q_x \\cdot q_y$|Nobody survive|\n",
    "|no extinction|$p_{\\bar{xy}}$|At least one survive|\n",
    "|dissolution_no_ex|$p_{\\frac{[1]}{xy}}$=$p_x \\cdot q_y +q_x \\cdot p_y $|It survive exactly one|"
   ]
  },
  {
   "cell_type": "code",
   "execution_count": 43,
   "metadata": {},
   "outputs": [
    {
     "name": "stdout",
     "output_type": "stream",
     "text": [
      "The probability that at least one of lives 60 and 63 will be dead within 3 years is:\n"
     ]
    },
    {
     "data": {
      "text/plain": [
       "0.06256902018899291"
      ]
     },
     "execution_count": 43,
     "metadata": {},
     "output_type": "execute_result"
    }
   ],
   "source": [
    "MultipleLives().q_xy(usa_male, usa_female, age_x=60, age_y=63, t=3) # qxyt status = 'joint' en R --joint_life"
   ]
  },
  {
   "cell_type": "code",
   "execution_count": 43,
   "metadata": {},
   "outputs": [
    {
     "name": "stdout",
     "output_type": "stream",
     "text": [
      "The probability that both lives 60 and 63 will be dead within 3 years is: \n"
     ]
    },
    {
     "data": {
      "text/plain": [
       "0.000994521015274752"
      ]
     },
     "execution_count": 43,
     "metadata": {},
     "output_type": "execute_result"
    }
   ],
   "source": [
    "MultipleLives().extinction(usa_male, usa_female, age_x=60, age_y=63, t=3) # qxyt status = 'last' en R --last_survivor"
   ]
  },
  {
   "cell_type": "code",
   "execution_count": 44,
   "metadata": {},
   "outputs": [
    {
     "name": "stdout",
     "output_type": "stream",
     "text": [
      "The probability that at least one of lives 60 and 63 will be alive after 3 years is:\n"
     ]
    },
    {
     "data": {
      "text/plain": [
       "0.9990054789847252"
      ]
     },
     "execution_count": 44,
     "metadata": {},
     "output_type": "execute_result"
    }
   ],
   "source": [
    "MultipleLives().no_extinction(usa_male, usa_female, age_x=60, age_y=63, t=3) # qxyt status = 'last' en R --last_survivor"
   ]
  },
  {
   "cell_type": "code",
   "execution_count": 45,
   "metadata": {},
   "outputs": [
    {
     "name": "stdout",
     "output_type": "stream",
     "text": [
      "The probability that both lives 60 and 63 will be alive after 3 years is:\n"
     ]
    },
    {
     "data": {
      "text/plain": [
       "0.9374309798110071"
      ]
     },
     "execution_count": 45,
     "metadata": {},
     "output_type": "execute_result"
    }
   ],
   "source": [
    "MultipleLives().p_xy(usa_male, usa_female, age_x=60, age_y=63, t=3) # pxyt status = 'joint' en R"
   ]
  },
  {
   "cell_type": "code",
   "execution_count": 47,
   "metadata": {},
   "outputs": [
    {
     "data": {
      "text/plain": [
       "0.061574499173718156"
      ]
     },
     "execution_count": 47,
     "metadata": {},
     "output_type": "execute_result"
    }
   ],
   "source": [
    "MultipleLives().dissolution_no_ex(usa_male, usa_female, age_x=60, age_y=63, t=3) # sobrevive exactamente 1"
   ]
  },
  {
   "cell_type": "code",
   "execution_count": 52,
   "metadata": {},
   "outputs": [
    {
     "data": {
      "text/plain": [
       "0.061574499173718156"
      ]
     },
     "execution_count": 52,
     "metadata": {},
     "output_type": "execute_result"
    }
   ],
   "source": [
    "0.06256902018899291 - 0.000994521015274752 # That is dissoltion and no extinction"
   ]
  },
  {
   "cell_type": "code",
   "execution_count": 46,
   "metadata": {},
   "outputs": [
    {
     "name": "stdout",
     "output_type": "stream",
     "text": [
      "The probability that both lives 22 and 44 will be alive after 6 years is:\n"
     ]
    },
    {
     "data": {
      "text/plain": [
       "0.9728491313971115"
      ]
     },
     "execution_count": 46,
     "metadata": {},
     "output_type": "execute_result"
    }
   ],
   "source": [
    "MultipleLives().p_xy(italia, italia, age_x=22, age_y=44, t=6)"
   ]
  },
  {
   "cell_type": "code",
   "execution_count": 50,
   "metadata": {},
   "outputs": [
    {
     "name": "stdout",
     "output_type": "stream",
     "text": [
      "The probability that at least one of lives 20 and 22 will be dead within 3 years is:\n"
     ]
    },
    {
     "data": {
      "text/plain": [
       "0.007177736364576526"
      ]
     },
     "execution_count": 50,
     "metadata": {},
     "output_type": "execute_result"
    }
   ],
   "source": [
    "MultipleLives().q_xy(italia, italia, age_x=20, age_y=22, t=3) # pxyt status = 'joint' en R"
   ]
  },
  {
   "cell_type": "markdown",
   "metadata": {},
   "source": [
    "## References\n",
    "\n",
    "*  Ayuso, Mercedes; Guillen Estany, Montserrat; Rojo García, José Luis; Pérez Marín, Ana Maria. Estadistica actuarial vida\n"
   ]
  }
 ],
 "metadata": {
  "colab": {
   "authorship_tag": "ABX9TyNVUpTB2kA6h+05t+kNYCNC",
   "collapsed_sections": [],
   "name": "VaR2.ipynb",
   "provenance": []
  },
  "kernelspec": {
   "display_name": "Python 3",
   "language": "python",
   "name": "python3"
  },
  "language_info": {
   "codemirror_mode": {
    "name": "ipython",
    "version": 3
   },
   "file_extension": ".py",
   "mimetype": "text/x-python",
   "name": "python",
   "nbconvert_exporter": "python",
   "pygments_lexer": "ipython3",
   "version": "3.8.1"
  }
 },
 "nbformat": 4,
 "nbformat_minor": 1
}
