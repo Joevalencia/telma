{
 "cells": [
  {
   "cell_type": "markdown",
   "metadata": {},
   "source": [
    "### Insurance Benefits"
   ]
  },
  {
   "attachments": {
    "telma%202.png": {
     "image/png": "[encoded data removed]"
    }
   },
   "cell_type": "markdown",
   "metadata": {},
   "source": [
    "![telma%202.png](attachment:telma%202.png)"
   ]
  },
  {
   "cell_type": "markdown",
   "metadata": {},
   "source": [
    "This Notebook aims at introducing some basic insurance operations.\n",
    "##### Commutations\n",
    "<br> The Commutation Functions are a computational device to ensure that net<br>\n",
    "single premiums for life annuities, endowments, and insurances from the same<br>\n",
    "life table and figured at the same interest rate, for lives of differing ages and<br>\n",
    "for policies of differing durations, can all be obtained from a single table lookup. \n",
    "\n",
    "<br>Historically, this idea has been very important in saving calculational\n",
    "labor when arriving at premium quotes.\n",
    "<br>\n",
    "##### In other words:\n",
    "Tables of commutation functions simplify the calculation of numerical values\n",
    "for many actuarial functions. "
   ]
  },
  {
   "cell_type": "code",
   "execution_count": 1,
   "metadata": {},
   "outputs": [],
   "source": [
    "import pandas as pd\n",
    "from telma import InsuranceBenefits"
   ]
  },
  {
   "cell_type": "code",
   "execution_count": 2,
   "metadata": {},
   "outputs": [
    {
     "data": {
      "text/plain": [
       "0      100000.0\n",
       "1       99112.0\n",
       "2       99061.0\n",
       "3       99025.0\n",
       "4       98997.0\n",
       "         ...   \n",
       "104        28.0\n",
       "105        13.0\n",
       "106         6.0\n",
       "107         2.0\n",
       "108         1.0\n",
       "Name: x, Length: 109, dtype: float64"
      ]
     },
     "execution_count": 2,
     "metadata": {},
     "output_type": "execute_result"
    }
   ],
   "source": [
    "italia = pd.read_csv('italiani.csv').x  ## Old italian cohort sim92\n",
    "italia"
   ]
  },
  {
   "cell_type": "code",
   "execution_count": 3,
   "metadata": {},
   "outputs": [
    {
     "name": "stdout",
     "output_type": "stream",
     "text": [
      "--------------------------------------------------\n",
      "Commutations results of x:\n",
      "--------------------------------------------------\n",
      "Date and Time:  Sat, 24 Jul 2021 13:48:30\n",
      "Region and Country:  Liguria , IT\n"
     ]
    },
    {
     "data": {
      "text/html": [
       "<div>\n",
       "<style scoped>\n",
       "    .dataframe tbody tr th:only-of-type {\n",
       "        vertical-align: middle;\n",
       "    }\n",
       "\n",
       "    .dataframe tbody tr th {\n",
       "        vertical-align: top;\n",
       "    }\n",
       "\n",
       "    .dataframe thead th {\n",
       "        text-align: right;\n",
       "    }\n",
       "</style>\n",
       "<table border=\"1\" class=\"dataframe\">\n",
       "  <thead>\n",
       "    <tr style=\"text-align: right;\">\n",
       "      <th></th>\n",
       "      <th>lx</th>\n",
       "      <th>Dx</th>\n",
       "      <th>Nx</th>\n",
       "      <th>Cx</th>\n",
       "      <th>Mx</th>\n",
       "      <th>Rx</th>\n",
       "      <th>Sx</th>\n",
       "    </tr>\n",
       "  </thead>\n",
       "  <tbody>\n",
       "    <tr>\n",
       "      <th>0</th>\n",
       "      <td>100000.0</td>\n",
       "      <td>100000.000000</td>\n",
       "      <td>2.986583e+06</td>\n",
       "      <td>862.135922</td>\n",
       "      <td>13012.104080</td>\n",
       "      <td>800851.556392</td>\n",
       "      <td>7.504330e+07</td>\n",
       "    </tr>\n",
       "    <tr>\n",
       "      <th>1</th>\n",
       "      <td>99112.0</td>\n",
       "      <td>96225.242718</td>\n",
       "      <td>2.886583e+06</td>\n",
       "      <td>48.072391</td>\n",
       "      <td>12149.968157</td>\n",
       "      <td>787839.452313</td>\n",
       "      <td>7.205672e+07</td>\n",
       "    </tr>\n",
       "    <tr>\n",
       "      <th>2</th>\n",
       "      <td>99061.0</td>\n",
       "      <td>93374.493355</td>\n",
       "      <td>2.790358e+06</td>\n",
       "      <td>32.945100</td>\n",
       "      <td>12101.895766</td>\n",
       "      <td>775689.484156</td>\n",
       "      <td>6.917013e+07</td>\n",
       "    </tr>\n",
       "    <tr>\n",
       "      <th>3</th>\n",
       "      <td>99025.0</td>\n",
       "      <td>90621.902817</td>\n",
       "      <td>2.696983e+06</td>\n",
       "      <td>24.877637</td>\n",
       "      <td>12068.950666</td>\n",
       "      <td>763587.588390</td>\n",
       "      <td>6.637978e+07</td>\n",
       "    </tr>\n",
       "    <tr>\n",
       "      <th>4</th>\n",
       "      <td>98997.0</td>\n",
       "      <td>87957.552283</td>\n",
       "      <td>2.606361e+06</td>\n",
       "      <td>19.840002</td>\n",
       "      <td>12044.073029</td>\n",
       "      <td>751518.637723</td>\n",
       "      <td>6.368279e+07</td>\n",
       "    </tr>\n",
       "    <tr>\n",
       "      <th>...</th>\n",
       "      <td>...</td>\n",
       "      <td>...</td>\n",
       "      <td>...</td>\n",
       "      <td>...</td>\n",
       "      <td>...</td>\n",
       "      <td>...</td>\n",
       "      <td>...</td>\n",
       "    </tr>\n",
       "    <tr>\n",
       "      <th>104</th>\n",
       "      <td>28.0</td>\n",
       "      <td>1.294454</td>\n",
       "      <td>2.265096e+00</td>\n",
       "      <td>0.673260</td>\n",
       "      <td>1.188602</td>\n",
       "      <td>1.955324</td>\n",
       "      <td>3.789654e+00</td>\n",
       "    </tr>\n",
       "    <tr>\n",
       "      <th>105</th>\n",
       "      <td>13.0</td>\n",
       "      <td>0.583492</td>\n",
       "      <td>9.706420e-01</td>\n",
       "      <td>0.305037</td>\n",
       "      <td>0.515342</td>\n",
       "      <td>0.766722</td>\n",
       "      <td>1.524558e+00</td>\n",
       "    </tr>\n",
       "    <tr>\n",
       "      <th>106</th>\n",
       "      <td>6.0</td>\n",
       "      <td>0.261460</td>\n",
       "      <td>3.871502e-01</td>\n",
       "      <td>0.169230</td>\n",
       "      <td>0.210305</td>\n",
       "      <td>0.251380</td>\n",
       "      <td>5.539156e-01</td>\n",
       "    </tr>\n",
       "    <tr>\n",
       "      <th>107</th>\n",
       "      <td>2.0</td>\n",
       "      <td>0.084615</td>\n",
       "      <td>1.256901e-01</td>\n",
       "      <td>0.041075</td>\n",
       "      <td>0.041075</td>\n",
       "      <td>0.041075</td>\n",
       "      <td>1.667653e-01</td>\n",
       "    </tr>\n",
       "    <tr>\n",
       "      <th>108</th>\n",
       "      <td>1.0</td>\n",
       "      <td>0.041075</td>\n",
       "      <td>4.107520e-02</td>\n",
       "      <td>0.000000</td>\n",
       "      <td>0.000000</td>\n",
       "      <td>0.000000</td>\n",
       "      <td>4.107520e-02</td>\n",
       "    </tr>\n",
       "  </tbody>\n",
       "</table>\n",
       "<p>109 rows × 7 columns</p>\n",
       "</div>"
      ],
      "text/plain": [
       "           lx             Dx            Nx          Cx            Mx  \\\n",
       "0    100000.0  100000.000000  2.986583e+06  862.135922  13012.104080   \n",
       "1     99112.0   96225.242718  2.886583e+06   48.072391  12149.968157   \n",
       "2     99061.0   93374.493355  2.790358e+06   32.945100  12101.895766   \n",
       "3     99025.0   90621.902817  2.696983e+06   24.877637  12068.950666   \n",
       "4     98997.0   87957.552283  2.606361e+06   19.840002  12044.073029   \n",
       "..        ...            ...           ...         ...           ...   \n",
       "104      28.0       1.294454  2.265096e+00    0.673260      1.188602   \n",
       "105      13.0       0.583492  9.706420e-01    0.305037      0.515342   \n",
       "106       6.0       0.261460  3.871502e-01    0.169230      0.210305   \n",
       "107       2.0       0.084615  1.256901e-01    0.041075      0.041075   \n",
       "108       1.0       0.041075  4.107520e-02    0.000000      0.000000   \n",
       "\n",
       "                Rx            Sx  \n",
       "0    800851.556392  7.504330e+07  \n",
       "1    787839.452313  7.205672e+07  \n",
       "2    775689.484156  6.917013e+07  \n",
       "3    763587.588390  6.637978e+07  \n",
       "4    751518.637723  6.368279e+07  \n",
       "..             ...           ...  \n",
       "104       1.955324  3.789654e+00  \n",
       "105       0.766722  1.524558e+00  \n",
       "106       0.251380  5.539156e-01  \n",
       "107       0.041075  1.667653e-01  \n",
       "108       0.000000  4.107520e-02  \n",
       "\n",
       "[109 rows x 7 columns]"
      ]
     },
     "execution_count": 3,
     "metadata": {},
     "output_type": "execute_result"
    }
   ],
   "source": [
    "InsuranceBenefits().commutations(italia, i=.03) # Index is the age"
   ]
  },
  {
   "cell_type": "markdown",
   "metadata": {},
   "source": [
    "#### Pure Endowment"
   ]
  },
  {
   "cell_type": "code",
   "execution_count": 4,
   "metadata": {},
   "outputs": [
    {
     "name": "stdout",
     "output_type": "stream",
     "text": [
      "The Pure Endowment and value for an individual aged 22 \n",
      "with a length contract of 1 given 1 bucks is:\n",
      "\n"
     ]
    },
    {
     "data": {
      "text/plain": [
       "(0.97, 0.9696958)"
      ]
     },
     "execution_count": 4,
     "metadata": {},
     "output_type": "execute_result"
    }
   ],
   "source": [
    "InsuranceBenefits().pure_endowment(italia, age=22, i=.03)"
   ]
  },
  {
   "cell_type": "code",
   "execution_count": 5,
   "metadata": {},
   "outputs": [
    {
     "name": "stdout",
     "output_type": "stream",
     "text": [
      "The Pure Endowment and value for an individual aged 22 \n",
      "with a length contract of 1 given 100000 bucks is:\n",
      "\n"
     ]
    },
    {
     "data": {
      "text/plain": [
       "(96969.58, 0.9696958)"
      ]
     },
     "execution_count": 5,
     "metadata": {},
     "output_type": "execute_result"
    }
   ],
   "source": [
    "InsuranceBenefits().pure_endowment(italia, age=22, i=.03, capital=100000)"
   ]
  },
  {
   "cell_type": "code",
   "execution_count": 6,
   "metadata": {},
   "outputs": [
    {
     "name": "stdout",
     "output_type": "stream",
     "text": [
      "The Pure Endowment and value for an individual aged 22 \n",
      "with a length contract of 50 given 100000 bucks is:\n",
      "\n"
     ]
    },
    {
     "data": {
      "text/plain": [
       "(15137.6, 0.151376)"
      ]
     },
     "execution_count": 6,
     "metadata": {},
     "output_type": "execute_result"
    }
   ],
   "source": [
    "InsuranceBenefits().pure_endowment(italia, age=22, i=.03, capital = 100000, n=50)"
   ]
  },
  {
   "cell_type": "markdown",
   "metadata": {},
   "source": [
    "##### Endowment"
   ]
  },
  {
   "cell_type": "code",
   "execution_count": 7,
   "metadata": {},
   "outputs": [
    {
     "name": "stdout",
     "output_type": "stream",
     "text": [
      "The endowment of age 22: is 32711.37 and his probability is 0.32711371391125166\n"
     ]
    },
    {
     "data": {
      "text/plain": [
       "32711.37"
      ]
     },
     "execution_count": 7,
     "metadata": {},
     "output_type": "execute_result"
    }
   ],
   "source": [
    "InsuranceBenefits().endowment(italia, age=22, i=.03, t=40, capital = 100000)"
   ]
  },
  {
   "cell_type": "code",
   "execution_count": 8,
   "metadata": {},
   "outputs": [
    {
     "name": "stdout",
     "output_type": "stream",
     "text": [
      "The actuarial value of this annuity-advance is:\n"
     ]
    },
    {
     "data": {
      "text/plain": [
       "23.10243"
      ]
     },
     "execution_count": 8,
     "metadata": {},
     "output_type": "execute_result"
    }
   ],
   "source": [
    "InsuranceBenefits().temporary_annuity(italia, age=22, i=.03, n=40, payments='advance', m=1) ### m = fractional pay per period"
   ]
  },
  {
   "cell_type": "code",
   "execution_count": 9,
   "metadata": {},
   "outputs": [
    {
     "name": "stdout",
     "output_type": "stream",
     "text": [
      "The actuarial value of this annuity-arrears is:\n"
     ]
    },
    {
     "data": {
      "text/plain": [
       "22.36421"
      ]
     },
     "execution_count": 9,
     "metadata": {},
     "output_type": "execute_result"
    }
   ],
   "source": [
    "InsuranceBenefits().temporary_annuity(italia, age=22, i=.03, n=40, payments='arrears', m=1)"
   ]
  },
  {
   "cell_type": "markdown",
   "metadata": {},
   "source": [
    "##### If $n$ parameter is omitted it assumed to be paid until death"
   ]
  },
  {
   "cell_type": "code",
   "execution_count": 10,
   "metadata": {},
   "outputs": [
    {
     "name": "stdout",
     "output_type": "stream",
     "text": [
      "The actuarial value of this annuity-advance is:\n"
     ]
    },
    {
     "data": {
      "text/plain": [
       "26.63401"
      ]
     },
     "execution_count": 10,
     "metadata": {},
     "output_type": "execute_result"
    }
   ],
   "source": [
    "InsuranceBenefits().temporary_annuity(italia, age=22, i=.03,  payments='advance', m=1)"
   ]
  },
  {
   "cell_type": "code",
   "execution_count": 11,
   "metadata": {},
   "outputs": [
    {
     "name": "stdout",
     "output_type": "stream",
     "text": [
      "The actuarial value of this annuity-arrears is:\n"
     ]
    },
    {
     "data": {
      "text/plain": [
       "26.0894"
      ]
     },
     "execution_count": 11,
     "metadata": {},
     "output_type": "execute_result"
    }
   ],
   "source": [
    "InsuranceBenefits().temporary_annuity(italia, age=22, i=.03,  payments='arrears', m=12)"
   ]
  },
  {
   "cell_type": "markdown",
   "metadata": {},
   "source": [
    "#### Deferred annuities\n",
    "##### If $n$ parameter is omitted it assumed to be paid until death"
   ]
  },
  {
   "cell_type": "code",
   "execution_count": 12,
   "metadata": {},
   "outputs": [
    {
     "data": {
      "text/plain": [
       "7.48409"
      ]
     },
     "execution_count": 12,
     "metadata": {},
     "output_type": "execute_result"
    }
   ],
   "source": [
    "InsuranceBenefits().deferred_annuity(italia, age=22, i=.03, m=5, n=10, payments='advance')"
   ]
  },
  {
   "cell_type": "code",
   "execution_count": 13,
   "metadata": {},
   "outputs": [
    {
     "data": {
      "text/plain": [
       "7.25543"
      ]
     },
     "execution_count": 13,
     "metadata": {},
     "output_type": "execute_result"
    }
   ],
   "source": [
    "InsuranceBenefits().deferred_annuity(italia, age=22, i=.03, m=5, n=10, payments='arrears')"
   ]
  },
  {
   "cell_type": "code",
   "execution_count": 14,
   "metadata": {},
   "outputs": [
    {
     "name": "stdout",
     "output_type": "stream",
     "text": [
      "Please the payments should be specified as \"advance\", \"arrears\", \"whole advance\" or \"whole arrears\" either\n"
     ]
    }
   ],
   "source": [
    "InsuranceBenefits().deferred_annuity(italia, age=22, i=.03, m=5, payments='whole')"
   ]
  },
  {
   "cell_type": "code",
   "execution_count": 15,
   "metadata": {},
   "outputs": [
    {
     "data": {
      "text/plain": [
       "21.92828"
      ]
     },
     "execution_count": 15,
     "metadata": {},
     "output_type": "execute_result"
    }
   ],
   "source": [
    "InsuranceBenefits().deferred_annuity(italia, age=22, i=.03, m=5, payments='whole advance')"
   ]
  },
  {
   "cell_type": "code",
   "execution_count": 16,
   "metadata": {},
   "outputs": [
    {
     "data": {
      "text/plain": [
       "21.0712"
      ]
     },
     "execution_count": 16,
     "metadata": {},
     "output_type": "execute_result"
    }
   ],
   "source": [
    "InsuranceBenefits().deferred_annuity(italia, age=22, i=.03, m=5, payments='whole arrears')"
   ]
  },
  {
   "cell_type": "markdown",
   "metadata": {},
   "source": [
    "#### Life Insurance"
   ]
  },
  {
   "cell_type": "code",
   "execution_count": 17,
   "metadata": {},
   "outputs": [
    {
     "data": {
      "text/plain": [
       "0.00118"
      ]
     },
     "execution_count": 17,
     "metadata": {},
     "output_type": "execute_result"
    }
   ],
   "source": [
    "InsuranceBenefits().temporary_insurance(italia, age=22, i=.03)"
   ]
  },
  {
   "cell_type": "code",
   "execution_count": 18,
   "metadata": {},
   "outputs": [
    {
     "data": {
      "text/plain": [
       "0.2242515"
      ]
     },
     "execution_count": 18,
     "metadata": {},
     "output_type": "execute_result"
    }
   ],
   "source": [
    "InsuranceBenefits().whole_life_insurance(italia, age=22, i=.03)"
   ]
  },
  {
   "cell_type": "code",
   "execution_count": 19,
   "metadata": {},
   "outputs": [
    {
     "data": {
      "text/plain": [
       "0.2275904"
      ]
     },
     "execution_count": 19,
     "metadata": {},
     "output_type": "execute_result"
    }
   ],
   "source": [
    "InsuranceBenefits().whole_life_insurance(italia, age=22, i=.03, kind='immediate')"
   ]
  },
  {
   "cell_type": "code",
   "execution_count": 20,
   "metadata": {},
   "outputs": [
    {
     "data": {
      "text/plain": [
       "1.649351"
      ]
     },
     "execution_count": 20,
     "metadata": {},
     "output_type": "execute_result"
    }
   ],
   "source": [
    "InsuranceBenefits().increasing_lifeinsurance(italia, 22, i=.03,n=40,kind='temporary')"
   ]
  },
  {
   "cell_type": "code",
   "execution_count": 21,
   "metadata": {},
   "outputs": [
    {
     "data": {
      "text/plain": [
       "10.511726"
      ]
     },
     "execution_count": 21,
     "metadata": {},
     "output_type": "execute_result"
    }
   ],
   "source": [
    "InsuranceBenefits().increasing_lifeinsurance(italia, 22, i=.03)  ## By default it computes \"whole\""
   ]
  },
  {
   "cell_type": "markdown",
   "metadata": {},
   "source": [
    "### References\n",
    "* Arriaga Parra Mario, Sánchez Chibrás José Antonio: ELEMENTOS DE CÁLCULO ACTUARIAL (UNAM)"
   ]
  }
 ],
 "metadata": {
  "kernelspec": {
   "display_name": "Python 3",
   "language": "python",
   "name": "python3"
  },
  "language_info": {
   "codemirror_mode": {
    "name": "ipython",
    "version": 3
   },
   "file_extension": ".py",
   "mimetype": "text/x-python",
   "name": "python",
   "nbconvert_exporter": "python",
   "pygments_lexer": "ipython3",
   "version": "3.8.1"
  }
 },
 "nbformat": 4,
 "nbformat_minor": 2
}
